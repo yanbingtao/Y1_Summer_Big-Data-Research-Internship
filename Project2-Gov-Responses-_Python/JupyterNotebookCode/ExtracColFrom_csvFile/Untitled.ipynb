{
 "cells": [
  {
   "cell_type": "code",
   "execution_count": 1,
   "metadata": {},
   "outputs": [],
   "source": [
    "import pandas as pd\n",
    "import io\n",
    "import csv \n",
    "import glob\n",
    "import os"
   ]
  },
  {
   "cell_type": "code",
   "execution_count": 34,
   "metadata": {},
   "outputs": [
    {
     "name": "stdout",
     "output_type": "stream",
     "text": [
      "        省份   城市   区县                     留言标题  \\\n",
      "0      上海市  NaN  上海市    居委书记带头涉嫌違法，居民反映他让去法院。   \n",
      "1      上海市  NaN  上海市               农村住宅原宅基地翻建   \n",
      "2      上海市  NaN  上海市  上海市幼儿园为何取消晚托班，双职工家庭怎么办？   \n",
      "3      上海市  NaN  上海市                    电玩赌博机   \n",
      "4      上海市  NaN  上海市              赌博一条街 无人管几年   \n",
      "...    ...  ...  ...                      ...   \n",
      "34033  上海市  黄浦区  黄浦区               公司拖欠员工工资未给   \n",
      "34034  上海市  黄浦区  黄浦区             上海众启欠工资不分钱不给   \n",
      "34035  上海市  黄浦区  黄浦区                防疫隔离以百姓为本   \n",
      "34036  上海市  黄浦区  黄浦区            关于拆除违章建筑的书面申请   \n",
      "34037  上海市  黄浦区  黄浦区     学霸君一对一平台是骗子，退费一直拖着不办   \n",
      "\n",
      "                                                    留言内容  \n",
      "0      松江九亭朗亭居委会带头不经主管部门批准擅自在小区门外公共便道上圈占三百平米跳广埸舞，造成噪声...  \n",
      "1      尊敬的韩正书记：我现家有四间平方，建于1970年，房龄43年，由于房龄长，且曾在多年前遭受邻...  \n",
      "2      做为双职工家庭，幼儿园小朋友接送问题成了头等大事。不明白教育部为什么要一刀切地取消幼儿园晚托...  \n",
      "3      韩书记你好，我了解 电玩城 赌博机 害死无辜人，电玩城赌博机 害死很多打工仔，希望领导严打赌...  \n",
      "4      领导你好！ 我是上海市嘉定区江桥二村的居民 我门小区门口有一条商业街 短短100米的街 就有...  \n",
      "...                                                  ...  \n",
      "34033  领导，您好！我是18年5月进入某公司做财务，后来公司经常拖延发工资，一直到19年9月离职。离...  \n",
      "34034  尊敬的领导。你好！我们2019年3月至2020年3月份在上海世茂广场皇家艾美酒店装修  上海...  \n",
      "34035  紧急求助！上海市黄浦区人民路的居民生命安全受到严重威胁！黄浦区人民路839号中星君亭酒店和居...  \n",
      "34036  尊敬的区委书记：本人居住地黄埔区瞿溪路830弄7号6*1室和6*2室的居民在其居住的六楼北面...  \n",
      "34037  2019年1月10日报的学霸君一对一数学班 （一节160元）上海谦问万答吧云计算科技有限公司...  \n",
      "\n",
      "[34038 rows x 5 columns]\n"
     ]
    }
   ],
   "source": [
    "prov='山西省'\n",
    "filepath=r\"C:\\Users\\yanbi\\Desktop\\Sum_Research2\\National data\\All_\"+city+\".csv\"\n",
    "filepath_output=r\"C:\\Users\\yanbi\\Desktop\\Sum_Research2\\National data ContentForKeywordAnalysis\"\n",
    "\n",
    "# filenames = glob.glob(filepath + \"/*.csv\")\n",
    "# print(filenames)\n",
    "\n",
    "# for file in filenames:  \n",
    "df = pd.read_csv(filepath, usecols=['省份','城市','区县','留言标题','留言内容'])\n",
    "print(df)\n",
    "df.to_csv(filepath_output+'\\Content_'+city+\".csv\")\n",
    "    "
   ]
  }
 ],
 "metadata": {
  "kernelspec": {
   "display_name": "Python 3",
   "language": "python",
   "name": "python3"
  },
  "language_info": {
   "codemirror_mode": {
    "name": "ipython",
    "version": 3
   },
   "file_extension": ".py",
   "mimetype": "text/x-python",
   "name": "python",
   "nbconvert_exporter": "python",
   "pygments_lexer": "ipython3",
   "version": "3.7.6"
  }
 },
 "nbformat": 4,
 "nbformat_minor": 4
}
