{
 "cells": [
  {
   "cell_type": "code",
   "execution_count": 1,
   "metadata": {},
   "outputs": [],
   "source": [
    "import pandas as pd \n",
    "import glob\n",
    "import os"
   ]
  },
  {
   "cell_type": "code",
   "execution_count": 2,
   "metadata": {},
   "outputs": [
    {
     "name": "stdout",
     "output_type": "stream",
     "text": [
      "['C:\\\\Users\\\\yanbi\\\\Desktop\\\\Sum_Research2\\\\全国留言数据updated\\\\山西省\\\\临汾市.xls', 'C:\\\\Users\\\\yanbi\\\\Desktop\\\\Sum_Research2\\\\全国留言数据updated\\\\山西省\\\\吕梁市.xls', 'C:\\\\Users\\\\yanbi\\\\Desktop\\\\Sum_Research2\\\\全国留言数据updated\\\\山西省\\\\大同市.xls', 'C:\\\\Users\\\\yanbi\\\\Desktop\\\\Sum_Research2\\\\全国留言数据updated\\\\山西省\\\\太原市.xls', 'C:\\\\Users\\\\yanbi\\\\Desktop\\\\Sum_Research2\\\\全国留言数据updated\\\\山西省\\\\山西省.xls', 'C:\\\\Users\\\\yanbi\\\\Desktop\\\\Sum_Research2\\\\全国留言数据updated\\\\山西省\\\\忻州市.xls', 'C:\\\\Users\\\\yanbi\\\\Desktop\\\\Sum_Research2\\\\全国留言数据updated\\\\山西省\\\\晋中市.xls', 'C:\\\\Users\\\\yanbi\\\\Desktop\\\\Sum_Research2\\\\全国留言数据updated\\\\山西省\\\\晋城市.xls', 'C:\\\\Users\\\\yanbi\\\\Desktop\\\\Sum_Research2\\\\全国留言数据updated\\\\山西省\\\\朔州市.xls', 'C:\\\\Users\\\\yanbi\\\\Desktop\\\\Sum_Research2\\\\全国留言数据updated\\\\山西省\\\\运城市.xls', 'C:\\\\Users\\\\yanbi\\\\Desktop\\\\Sum_Research2\\\\全国留言数据updated\\\\山西省\\\\长治市.xls', 'C:\\\\Users\\\\yanbi\\\\Desktop\\\\Sum_Research2\\\\全国留言数据updated\\\\山西省\\\\阳泉市.xls']\n",
      "              省份   城市   区县       留言对象                    留言标题 留言状态 留言类别1  \\\n",
      "Sheet1 0     山西省  临汾市  临汾市  临汾市委书记董一兵               临汾市卫生局不作为  待回复    医疗   \n",
      "       1     山西省  临汾市  临汾市  临汾市委书记董一兵            临汾的交警不为老百姓办事  待回复    交通   \n",
      "       2     山西省  临汾市  临汾市  临汾市委书记董一兵               关爱生命，惩治腐败  待回复    政务   \n",
      "       3     山西省  临汾市  临汾市  临汾市委书记董一兵         五条人命应关怀，严惩腐败责无贷  待回复    政务   \n",
      "       4     山西省  临汾市  临汾市  临汾市委书记董一兵         五条人命应关怀，严惩腐败责无贷  待回复    政务   \n",
      "...          ...  ...  ...        ...                     ...  ...   ...   \n",
      "       1066  山西省  阳泉市  阳泉市   阳泉市市长雷健坤      全款购买阳泉益昌富丽园商品房不开发票  待回复    城建   \n",
      "       1067  山西省  阳泉市  阳泉市   阳泉市市长雷健坤              企业破产拖欠养老保险  待回复    就业   \n",
      "       1068  山西省  阳泉市  阳泉市   阳泉市市长雷健坤       石卜嘴村拆迁8年至今未解决住房问题  待回复    城建   \n",
      "       1069  山西省  阳泉市  阳泉市   阳泉市市长雷健坤  洪城新居自来水和暖气的二次加压费的乱收费情况  待回复    城建   \n",
      "       1070  山西省  阳泉市  阳泉市   阳泉市市长雷健坤        矿区沙坪二期40号楼下水长期堵塞  待回复    城建   \n",
      "\n",
      "            留言类别2              留言时间  \\\n",
      "Sheet1 0       投诉  2013-08-21 11:00   \n",
      "       1       投诉  2013-08-28 10:26   \n",
      "       2       投诉  2013-09-03 10:22   \n",
      "       3       投诉  2013-09-10 10:36   \n",
      "       4       投诉  2013-09-11 14:55   \n",
      "...           ...               ...   \n",
      "       1066    求助  2020-05-25 11:31   \n",
      "       1067    求助  2020-05-27 11:59   \n",
      "       1068    求助  2020-05-29 12:40   \n",
      "       1069    投诉  2020-06-01 08:44   \n",
      "       1070    投诉  2020-06-02 10:21   \n",
      "\n",
      "                                                          留言内容 回复标题 回复内容 回复时间  \\\n",
      "Sheet1 0     临汾市医学会2009年9月7日受理我与霍州煤电团柏矿医院医患纠纷鉴定,并收我2500元鉴定费...  NaN  NaN  NaN   \n",
      "       1     罗书记你好；我是一个大车司机；我的驾驶本丢了，被人捡起来给我开了好多罚款单；我去交警队报案。...  NaN  NaN  NaN   \n",
      "       2     山西省洪洞县赵城镇圪塔村，私挖乱采的沙沟后患四次死去五个孩子，没有一个有合理赔款，没有一个责...  NaN  NaN  NaN   \n",
      "       3     洪洞县赵城镇圪塔村，私挖乱采的沙沟后患四次死去五个孩子，没有一个有合理赔款，没有一个责任人受...  NaN  NaN  NaN   \n",
      "       4     洪洞县赵城镇圪塔村，私挖乱采的沙沟后患四次死去五个孩子，没有一个有合理赔款，没有一个责任人受...  NaN  NaN  NaN   \n",
      "...                                                        ...  ...  ...  ...   \n",
      "       1066  尊敬的雷市长您好，首先祝您身体健康，工作顺利！本人于2017年8月全款购买山西阳泉市益昌富丽...  NaN  NaN  NaN   \n",
      "       1067  阳泉市盂县农机厂由于经营不善，经县政府批准于2003年正式宣布破产，职工动员大会承诺，遗留问...  NaN  NaN  NaN   \n",
      "       1068  尊敬的雷市长:希望领导看见我的信息可以重视，我们拆迁户不图别的就是想住上属于我们自己家，我们...  NaN  NaN  NaN   \n",
      "       1069  雷市长：       您好！我是矿区洪城河新建小区洪城新居4号楼业主李改霞。我向您反映的问题...  NaN  NaN  NaN   \n",
      "       1070  尊敬的领导你好:我是沙坪二期40号楼一单元的住户，从去年冬天开始下水道的公共部份出现频繁堵塞...  NaN  NaN  NaN   \n",
      "\n",
      "                                                   Unnamed: 13  \n",
      "Sheet1 0     http://liuyan.people.com.cn/threads/content?ti...  \n",
      "       1     http://liuyan.people.com.cn/threads/content?ti...  \n",
      "       2     http://liuyan.people.com.cn/threads/content?ti...  \n",
      "       3     http://liuyan.people.com.cn/threads/content?ti...  \n",
      "       4     http://liuyan.people.com.cn/threads/content?ti...  \n",
      "...                                                        ...  \n",
      "       1066  http://liuyan.people.com.cn/threads/content?ti...  \n",
      "       1067  http://liuyan.people.com.cn/threads/content?ti...  \n",
      "       1068  http://liuyan.people.com.cn/threads/content?ti...  \n",
      "       1069  http://liuyan.people.com.cn/threads/content?ti...  \n",
      "       1070  http://liuyan.people.com.cn/threads/content?ti...  \n",
      "\n",
      "[49285 rows x 14 columns]\n"
     ]
    }
   ],
   "source": [
    "filepath=r\"C:\\Users\\yanbi\\Desktop\\Sum_Research2\\全国留言数据updated\\河北省\"\n",
    "\n",
    "filenames = glob.glob(filepath + \"/*.xls\")\n",
    "print(filenames)\n",
    "\n",
    "### Dataframe Initialization\n",
    "concat_all_sheets_all_files = pd.DataFrame()\n",
    "\n",
    "for file in filenames:  \n",
    "        df = pd.read_excel(file, sheet_name=None, skiprows=None,nrows=None,usecols=None,header = 0,index_col=None)\n",
    "        \n",
    "        concat_all_sheets_single_file = pd.concat(df,sort=False)\n",
    "        \n",
    "        concat_all_sheets_all_files=concat_all_sheets_all_files.append(concat_all_sheets_single_file)\n",
    "        \n",
    "        \n",
    "writer = pd.ExcelWriter(filepath+'\\All_河北省.xlsx')\n",
    "print(concat_all_sheets_all_files)\n",
    "concat_all_sheets_all_files.to_excel(writer)\n",
    "writer.save()"
   ]
  }
 ],
 "metadata": {
  "kernelspec": {
   "display_name": "Python 3",
   "language": "python",
   "name": "python3"
  },
  "language_info": {
   "codemirror_mode": {
    "name": "ipython",
    "version": 3
   },
   "file_extension": ".py",
   "mimetype": "text/x-python",
   "name": "python",
   "nbconvert_exporter": "python",
   "pygments_lexer": "ipython3",
   "version": "3.7.6"
  }
 },
 "nbformat": 4,
 "nbformat_minor": 4
}
