{
 "cells": [
  {
   "cell_type": "code",
   "execution_count": 3,
   "metadata": {},
   "outputs": [],
   "source": [
    "import pandas as pd \n",
    "import glob\n",
    "import os"
   ]
  },
  {
   "cell_type": "code",
   "execution_count": 1,
   "metadata": {},
   "outputs": [
    {
     "ename": "NameError",
     "evalue": "name 'pd' is not defined",
     "output_type": "error",
     "traceback": [
      "\u001b[1;31m---------------------------------------------------------------------------\u001b[0m",
      "\u001b[1;31mNameError\u001b[0m                                 Traceback (most recent call last)",
      "\u001b[1;32m<ipython-input-1-f46dc4504f59>\u001b[0m in \u001b[0;36m<module>\u001b[1;34m\u001b[0m\n\u001b[0;32m      1\u001b[0m \u001b[0mfilepath\u001b[0m\u001b[1;33m=\u001b[0m\u001b[1;34mr\"C:\\Users\\yanbi\\Desktop\\newsData\\Level1Data\\all_招商.csv\"\u001b[0m\u001b[1;33m\u001b[0m\u001b[1;33m\u001b[0m\u001b[0m\n\u001b[1;32m----> 2\u001b[1;33m \u001b[0mall_data\u001b[0m \u001b[1;33m=\u001b[0m \u001b[0mpd\u001b[0m\u001b[1;33m.\u001b[0m\u001b[0mDataFrame\u001b[0m\u001b[1;33m(\u001b[0m\u001b[1;33m)\u001b[0m\u001b[1;33m\u001b[0m\u001b[1;33m\u001b[0m\u001b[0m\n\u001b[0m\u001b[0;32m      3\u001b[0m \u001b[0mall_data\u001b[0m\u001b[1;33m=\u001b[0m \u001b[0mpd\u001b[0m\u001b[1;33m.\u001b[0m\u001b[0mread_csv\u001b[0m\u001b[1;33m(\u001b[0m\u001b[0mfilepath\u001b[0m\u001b[1;33m,\u001b[0m \u001b[0mencoding\u001b[0m\u001b[1;33m=\u001b[0m\u001b[1;34m'utf-8'\u001b[0m\u001b[1;33m)\u001b[0m\u001b[1;33m\u001b[0m\u001b[1;33m\u001b[0m\u001b[0m\n",
      "\u001b[1;31mNameError\u001b[0m: name 'pd' is not defined"
     ]
    }
   ],
   "source": [
    "filepath=r\"C:\\Users\\yanbi\\Desktop\\newsData\\Level1Data\\all_招商.csv\"\n",
    "all_data = pd.DataFrame()\n",
    "all_data= pd.read_csv(filepath, encoding='utf-8')  "
   ]
  },
  {
   "cell_type": "code",
   "execution_count": 10,
   "metadata": {},
   "outputs": [
    {
     "data": {
      "text/plain": [
       "<bound method NDFrame.head of        Unnamed: 0  Unnamed: 1                               字段1_文本  \\\n",
       "0          Sheet1           0            【招商引资】根本停不下来!一天两个大项目落户湘东!   \n",
       "1          Sheet1           1             合肥市招商局莅临人和产业城 产业聚集再塑发展优势   \n",
       "2          Sheet1           2  ...!上海交大、安工大都要来!合淮路沿线要建特色小镇!长丰全面开挂!   \n",
       "3          Sheet1           3            合肥多个旅游项目全球招商,葛大店“城中村”开始拆迁   \n",
       "4          Sheet1           4   快讯:长丰县新慧御湖城备案 51套装修高层均价10700.20元/㎡   \n",
       "...           ...         ...                                  ...   \n",
       "454698     Sheet1       13198                   凤冈茶盘点:市场化规模化品牌化标准化   \n",
       "454699     Sheet1       13199               两当县第二十六届西交会签约项目开工率达80%   \n",
       "454700     Sheet1       13200          【聚焦第二十届兰洽会】两当县2014年重点招商引资项目   \n",
       "454701     Sheet1       13201         甘肃省陇南市两当县完成招商引资签约资金计划的148.4%   \n",
       "454702     Sheet1       13202                          两当签约招商引资3亿元   \n",
       "\n",
       "                               字段1     字段2  \n",
       "0            搜狐  2017年11月24日 12:54  长丰县 招商  \n",
       "1            搜狐  2017年11月02日 10:11  长丰县 招商  \n",
       "2            搜狐  2017年11月03日 19:10  长丰县 招商  \n",
       "3            搜狐  2017年11月12日 18:54  长丰县 招商  \n",
       "4          万家热线  2017年11月30日 09:27  长丰县 招商  \n",
       "...                            ...     ...  \n",
       "454698    第一茶叶网  2007年03月29日 09:18  凤冈县 招商  \n",
       "454699   新华网甘肃站  2017年12月07日 18:01  两当县 招商  \n",
       "454700    每日甘肃网  2014年07月04日 09:25  两当县 招商  \n",
       "454701  中国农业信息网  2012年10月18日 10:33  两当县 招商  \n",
       "454702       网易  2011年10月27日 11:20  两当县 招商  \n",
       "\n",
       "[454703 rows x 5 columns]>"
      ]
     },
     "execution_count": 10,
     "metadata": {},
     "output_type": "execute_result"
    }
   ],
   "source": [
    "all_data.head"
   ]
  },
  {
   "cell_type": "code",
   "execution_count": 11,
   "metadata": {},
   "outputs": [],
   "source": [
    "\n",
    "df21=all_data[\"字段2\"]\n",
    "df22=df21.str.split(\" \", expand=True)\n",
    "\n",
    "all_data1=all_data\n",
    "all_data1[[\"County\",\"Cat\"]]=df22\n",
    "\n",
    "all_data1=all_data1.drop(columns=['字段2'])"
   ]
  },
  {
   "cell_type": "code",
   "execution_count": 12,
   "metadata": {},
   "outputs": [],
   "source": [
    "df11=all_data[\"字段1\"]\n",
    "df12=df11.str.split(\" \", expand=True)\n",
    "\n",
    "all_data1[\"Source&Date\"]=df12[0]\n",
    "all_data1[\"Time\"]=df12[1]\n",
    "all_data1=all_data1.drop(columns=['字段1','Unnamed: 0','Unnamed: 1'])"
   ]
  },
  {
   "cell_type": "code",
   "execution_count": 13,
   "metadata": {},
   "outputs": [
    {
     "data": {
      "text/html": [
       "<div>\n",
       "<style scoped>\n",
       "    .dataframe tbody tr th:only-of-type {\n",
       "        vertical-align: middle;\n",
       "    }\n",
       "\n",
       "    .dataframe tbody tr th {\n",
       "        vertical-align: top;\n",
       "    }\n",
       "\n",
       "    .dataframe thead th {\n",
       "        text-align: right;\n",
       "    }\n",
       "</style>\n",
       "<table border=\"1\" class=\"dataframe\">\n",
       "  <thead>\n",
       "    <tr style=\"text-align: right;\">\n",
       "      <th></th>\n",
       "      <th>字段1_文本</th>\n",
       "      <th>County</th>\n",
       "      <th>Cat</th>\n",
       "      <th>Source&amp;Date</th>\n",
       "      <th>Time</th>\n",
       "    </tr>\n",
       "  </thead>\n",
       "  <tbody>\n",
       "    <tr>\n",
       "      <th>0</th>\n",
       "      <td>【招商引资】根本停不下来!一天两个大项目落户湘东!</td>\n",
       "      <td>长丰县</td>\n",
       "      <td>招商</td>\n",
       "      <td>搜狐  2017年11月24日</td>\n",
       "      <td>12:54</td>\n",
       "    </tr>\n",
       "    <tr>\n",
       "      <th>1</th>\n",
       "      <td>合肥市招商局莅临人和产业城 产业聚集再塑发展优势</td>\n",
       "      <td>长丰县</td>\n",
       "      <td>招商</td>\n",
       "      <td>搜狐  2017年11月02日</td>\n",
       "      <td>10:11</td>\n",
       "    </tr>\n",
       "    <tr>\n",
       "      <th>2</th>\n",
       "      <td>...!上海交大、安工大都要来!合淮路沿线要建特色小镇!长丰全面开挂!</td>\n",
       "      <td>长丰县</td>\n",
       "      <td>招商</td>\n",
       "      <td>搜狐  2017年11月03日</td>\n",
       "      <td>19:10</td>\n",
       "    </tr>\n",
       "    <tr>\n",
       "      <th>3</th>\n",
       "      <td>合肥多个旅游项目全球招商,葛大店“城中村”开始拆迁</td>\n",
       "      <td>长丰县</td>\n",
       "      <td>招商</td>\n",
       "      <td>搜狐  2017年11月12日</td>\n",
       "      <td>18:54</td>\n",
       "    </tr>\n",
       "    <tr>\n",
       "      <th>4</th>\n",
       "      <td>快讯:长丰县新慧御湖城备案 51套装修高层均价10700.20元/㎡</td>\n",
       "      <td>长丰县</td>\n",
       "      <td>招商</td>\n",
       "      <td>万家热线  2017年11月30日</td>\n",
       "      <td>09:27</td>\n",
       "    </tr>\n",
       "  </tbody>\n",
       "</table>\n",
       "</div>"
      ],
      "text/plain": [
       "                                字段1_文本 County Cat        Source&Date   Time\n",
       "0            【招商引资】根本停不下来!一天两个大项目落户湘东!    长丰县  招商    搜狐  2017年11月24日  12:54\n",
       "1             合肥市招商局莅临人和产业城 产业聚集再塑发展优势    长丰县  招商    搜狐  2017年11月02日  10:11\n",
       "2  ...!上海交大、安工大都要来!合淮路沿线要建特色小镇!长丰全面开挂!    长丰县  招商    搜狐  2017年11月03日  19:10\n",
       "3            合肥多个旅游项目全球招商,葛大店“城中村”开始拆迁    长丰县  招商    搜狐  2017年11月12日  18:54\n",
       "4   快讯:长丰县新慧御湖城备案 51套装修高层均价10700.20元/㎡    长丰县  招商  万家热线  2017年11月30日  09:27"
      ]
     },
     "execution_count": 13,
     "metadata": {},
     "output_type": "execute_result"
    }
   ],
   "source": [
    "all_data1.head()"
   ]
  },
  {
   "cell_type": "code",
   "execution_count": 14,
   "metadata": {},
   "outputs": [],
   "source": [
    "all_data=all_data1"
   ]
  },
  {
   "cell_type": "code",
   "execution_count": 15,
   "metadata": {},
   "outputs": [],
   "source": [
    "all_data.to_csv(r'C:\\Users\\yanbi\\Desktop\\newsData\\all_招商2.csv',encoding='utf8')"
   ]
  },
  {
   "cell_type": "code",
   "execution_count": null,
   "metadata": {},
   "outputs": [],
   "source": []
  },
  {
   "cell_type": "code",
   "execution_count": null,
   "metadata": {},
   "outputs": [],
   "source": []
  },
  {
   "cell_type": "code",
   "execution_count": null,
   "metadata": {},
   "outputs": [],
   "source": []
  }
 ],
 "metadata": {
  "kernelspec": {
   "display_name": "Python 3",
   "language": "python",
   "name": "python3"
  },
  "language_info": {
   "codemirror_mode": {
    "name": "ipython",
    "version": 3
   },
   "file_extension": ".py",
   "mimetype": "text/x-python",
   "name": "python",
   "nbconvert_exporter": "python",
   "pygments_lexer": "ipython3",
   "version": "3.7.6"
  },
  "toc": {
   "base_numbering": 1,
   "nav_menu": {},
   "number_sections": true,
   "sideBar": true,
   "skip_h1_title": false,
   "title_cell": "Table of Contents",
   "title_sidebar": "Contents",
   "toc_cell": false,
   "toc_position": {},
   "toc_section_display": true,
   "toc_window_display": false
  },
  "varInspector": {
   "cols": {
    "lenName": 16,
    "lenType": 16,
    "lenVar": 40
   },
   "kernels_config": {
    "python": {
     "delete_cmd_postfix": "",
     "delete_cmd_prefix": "del ",
     "library": "var_list.py",
     "varRefreshCmd": "print(var_dic_list())"
    },
    "r": {
     "delete_cmd_postfix": ") ",
     "delete_cmd_prefix": "rm(",
     "library": "var_list.r",
     "varRefreshCmd": "cat(var_dic_list()) "
    }
   },
   "types_to_exclude": [
    "module",
    "function",
    "builtin_function_or_method",
    "instance",
    "_Feature"
   ],
   "window_display": false
  }
 },
 "nbformat": 4,
 "nbformat_minor": 4
}
