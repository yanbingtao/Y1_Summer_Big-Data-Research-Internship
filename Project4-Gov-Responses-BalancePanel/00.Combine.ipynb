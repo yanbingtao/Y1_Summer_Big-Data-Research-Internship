{
 "cells": [
  {
   "cell_type": "code",
   "execution_count": 2,
   "metadata": {},
   "outputs": [],
   "source": [
    "import pandas as pd \n",
    "import glob\n",
    "import os"
   ]
  },
  {
   "cell_type": "code",
   "execution_count": 11,
   "metadata": {},
   "outputs": [
    {
     "name": "stdout",
     "output_type": "stream",
     "text": [
      "['C:\\\\Users\\\\yanbi\\\\Desktop\\\\newsData\\\\Original data\\\\招商\\\\zhaoshang1.1 (1).xlsx', 'C:\\\\Users\\\\yanbi\\\\Desktop\\\\newsData\\\\Original data\\\\招商\\\\zhaoshang1.1 (2).xlsx', 'C:\\\\Users\\\\yanbi\\\\Desktop\\\\newsData\\\\Original data\\\\招商\\\\zhaoshang1.1 (3).xlsx', 'C:\\\\Users\\\\yanbi\\\\Desktop\\\\newsData\\\\Original data\\\\招商\\\\zhaoshang1.1 (4).xlsx', 'C:\\\\Users\\\\yanbi\\\\Desktop\\\\newsData\\\\Original data\\\\招商\\\\zhaoshang1.1 (5).xlsx', 'C:\\\\Users\\\\yanbi\\\\Desktop\\\\newsData\\\\Original data\\\\招商\\\\zhaoshang1.1 (6).xlsx', 'C:\\\\Users\\\\yanbi\\\\Desktop\\\\newsData\\\\Original data\\\\招商\\\\zhaoshang1.1 (7).xlsx', 'C:\\\\Users\\\\yanbi\\\\Desktop\\\\newsData\\\\Original data\\\\招商\\\\zhaoshang1.1 (8).xlsx', 'C:\\\\Users\\\\yanbi\\\\Desktop\\\\newsData\\\\Original data\\\\招商\\\\zhaoshang1.2 (1).xlsx', 'C:\\\\Users\\\\yanbi\\\\Desktop\\\\newsData\\\\Original data\\\\招商\\\\zhaoshang1.2 (2).xlsx', 'C:\\\\Users\\\\yanbi\\\\Desktop\\\\newsData\\\\Original data\\\\招商\\\\zhaoshang1.2 (3).xlsx', 'C:\\\\Users\\\\yanbi\\\\Desktop\\\\newsData\\\\Original data\\\\招商\\\\zhaoshang1.2 (4).xlsx', 'C:\\\\Users\\\\yanbi\\\\Desktop\\\\newsData\\\\Original data\\\\招商\\\\zhaoshang1.2 (5).xlsx', 'C:\\\\Users\\\\yanbi\\\\Desktop\\\\newsData\\\\Original data\\\\招商\\\\zhaoshang1.2 (6).xlsx', 'C:\\\\Users\\\\yanbi\\\\Desktop\\\\newsData\\\\Original data\\\\招商\\\\zhaoshang1.2 (7).xlsx', 'C:\\\\Users\\\\yanbi\\\\Desktop\\\\newsData\\\\Original data\\\\招商\\\\zhaoshang1.2 (8).xlsx', 'C:\\\\Users\\\\yanbi\\\\Desktop\\\\newsData\\\\Original data\\\\招商\\\\zhaoshang1.3 (1).xlsx', 'C:\\\\Users\\\\yanbi\\\\Desktop\\\\newsData\\\\Original data\\\\招商\\\\zhaoshang1.3 (2).xlsx', 'C:\\\\Users\\\\yanbi\\\\Desktop\\\\newsData\\\\Original data\\\\招商\\\\zhaoshang1.3 (3).xlsx', 'C:\\\\Users\\\\yanbi\\\\Desktop\\\\newsData\\\\Original data\\\\招商\\\\zhaoshang1.3 (4).xlsx', 'C:\\\\Users\\\\yanbi\\\\Desktop\\\\newsData\\\\Original data\\\\招商\\\\zhaoshang1.3 (5).xlsx', 'C:\\\\Users\\\\yanbi\\\\Desktop\\\\newsData\\\\Original data\\\\招商\\\\zhaoshang1.3 (6).xlsx', 'C:\\\\Users\\\\yanbi\\\\Desktop\\\\newsData\\\\Original data\\\\招商\\\\zhaoshang1.3 (7).xlsx', 'C:\\\\Users\\\\yanbi\\\\Desktop\\\\newsData\\\\Original data\\\\招商\\\\zhaoshang1.3 (8).xlsx', 'C:\\\\Users\\\\yanbi\\\\Desktop\\\\newsData\\\\Original data\\\\招商\\\\百度新闻搜索招商重抓-2.xlsx']\n"
     ]
    }
   ],
   "source": [
    "filepath=r\"C:\\Users\\yanbi\\Desktop\\newsData\\Original data\\招商\"\n",
    "filenames = glob.glob(filepath + \"/*.xlsx\")\n",
    "print(filenames)"
   ]
  },
  {
   "cell_type": "code",
   "execution_count": 12,
   "metadata": {},
   "outputs": [],
   "source": [
    "### Dataframe Initialization\n",
    "all_data = pd.DataFrame()\n",
    "\n",
    "for file in filenames:  \n",
    "        df = pd.read_excel(file, sheet_name=None, skiprows=None,nrows=None,usecols=None,header = 0,index_col=None)\n",
    "        \n",
    "        concat_all_sheets_single_file = pd.concat(df,sort=False)\n",
    "        \n",
    "        all_data =all_data.append(concat_all_sheets_single_file)\n",
    "        \n",
    "all_data.to_csv(r'C:\\Users\\yanbi\\Desktop\\newsData\\all_招商.csv',encoding='utf8')"
   ]
  },
  {
   "cell_type": "code",
   "execution_count": 5,
   "metadata": {},
   "outputs": [
    {
     "data": {
      "text/html": [
       "<div>\n",
       "<style scoped>\n",
       "    .dataframe tbody tr th:only-of-type {\n",
       "        vertical-align: middle;\n",
       "    }\n",
       "\n",
       "    .dataframe tbody tr th {\n",
       "        vertical-align: top;\n",
       "    }\n",
       "\n",
       "    .dataframe thead th {\n",
       "        text-align: right;\n",
       "    }\n",
       "</style>\n",
       "<table border=\"1\" class=\"dataframe\">\n",
       "  <thead>\n",
       "    <tr style=\"text-align: right;\">\n",
       "      <th></th>\n",
       "      <th>字段1_文本</th>\n",
       "      <th>字段1</th>\n",
       "      <th>字段2</th>\n",
       "    </tr>\n",
       "  </thead>\n",
       "  <tbody>\n",
       "    <tr>\n",
       "      <th>count</th>\n",
       "      <td>1672040</td>\n",
       "      <td>1672040</td>\n",
       "      <td>1672040</td>\n",
       "    </tr>\n",
       "    <tr>\n",
       "      <th>unique</th>\n",
       "      <td>571565</td>\n",
       "      <td>552699</td>\n",
       "      <td>1969</td>\n",
       "    </tr>\n",
       "    <tr>\n",
       "      <th>top</th>\n",
       "      <td>投资5356万化隆群科牙什尕饮水工程开建</td>\n",
       "      <td>网易财经  2012年07月12日 15:10</td>\n",
       "      <td>黄骅市 投资</td>\n",
       "    </tr>\n",
       "    <tr>\n",
       "      <th>freq</th>\n",
       "      <td>314</td>\n",
       "      <td>275</td>\n",
       "      <td>2995</td>\n",
       "    </tr>\n",
       "  </tbody>\n",
       "</table>\n",
       "</div>"
      ],
      "text/plain": [
       "                      字段1_文本                      字段1      字段2\n",
       "count                1672040                  1672040  1672040\n",
       "unique                571565                   552699     1969\n",
       "top     投资5356万化隆群科牙什尕饮水工程开建  网易财经  2012年07月12日 15:10   黄骅市 投资\n",
       "freq                     314                      275     2995"
      ]
     },
     "execution_count": 5,
     "metadata": {},
     "output_type": "execute_result"
    }
   ],
   "source": [
    "all_data.describe()"
   ]
  },
  {
   "cell_type": "code",
   "execution_count": 6,
   "metadata": {},
   "outputs": [
    {
     "data": {
      "text/html": [
       "<div>\n",
       "<style scoped>\n",
       "    .dataframe tbody tr th:only-of-type {\n",
       "        vertical-align: middle;\n",
       "    }\n",
       "\n",
       "    .dataframe tbody tr th {\n",
       "        vertical-align: top;\n",
       "    }\n",
       "\n",
       "    .dataframe thead th {\n",
       "        text-align: right;\n",
       "    }\n",
       "</style>\n",
       "<table border=\"1\" class=\"dataframe\">\n",
       "  <thead>\n",
       "    <tr style=\"text-align: right;\">\n",
       "      <th></th>\n",
       "      <th></th>\n",
       "      <th>字段1_文本</th>\n",
       "      <th>字段1</th>\n",
       "      <th>字段2</th>\n",
       "    </tr>\n",
       "  </thead>\n",
       "  <tbody>\n",
       "    <tr>\n",
       "      <th rowspan=\"5\" valign=\"top\">Sheet1</th>\n",
       "      <th>0</th>\n",
       "      <td>枞阳县首个健康主题公园落成</td>\n",
       "      <td>安青网  2017年10月30日 16:43</td>\n",
       "      <td>枞阳县 投资</td>\n",
       "    </tr>\n",
       "    <tr>\n",
       "      <th>1</th>\n",
       "      <td>枞阳方氏名人故里项目开工 建筑面积约2900平方米</td>\n",
       "      <td>新浪安徽站  2017年11月30日 16:53</td>\n",
       "      <td>枞阳县 投资</td>\n",
       "    </tr>\n",
       "    <tr>\n",
       "      <th>2</th>\n",
       "      <td>枞阳盘活资源打造全域旅游</td>\n",
       "      <td>网易  2017年11月28日 09:33</td>\n",
       "      <td>枞阳县 投资</td>\n",
       "    </tr>\n",
       "    <tr>\n",
       "      <th>3</th>\n",
       "      <td>【今日头条】枞阳城边的桐城“飞地”鲟鱼镇将整体征迁</td>\n",
       "      <td>搜狐  2017年11月14日 15:55</td>\n",
       "      <td>枞阳县 投资</td>\n",
       "    </tr>\n",
       "    <tr>\n",
       "      <th>4</th>\n",
       "      <td>大美枞阳·全域旅游 “网友看枞阳”走进农家乐</td>\n",
       "      <td>凤凰安徽站  2017年11月06日 15:01</td>\n",
       "      <td>枞阳县 投资</td>\n",
       "    </tr>\n",
       "  </tbody>\n",
       "</table>\n",
       "</div>"
      ],
      "text/plain": [
       "                             字段1_文本                       字段1     字段2\n",
       "Sheet1 0              枞阳县首个健康主题公园落成    安青网  2017年10月30日 16:43  枞阳县 投资\n",
       "       1  枞阳方氏名人故里项目开工 建筑面积约2900平方米  新浪安徽站  2017年11月30日 16:53  枞阳县 投资\n",
       "       2               枞阳盘活资源打造全域旅游     网易  2017年11月28日 09:33  枞阳县 投资\n",
       "       3  【今日头条】枞阳城边的桐城“飞地”鲟鱼镇将整体征迁     搜狐  2017年11月14日 15:55  枞阳县 投资\n",
       "       4     大美枞阳·全域旅游 “网友看枞阳”走进农家乐  凤凰安徽站  2017年11月06日 15:01  枞阳县 投资"
      ]
     },
     "execution_count": 6,
     "metadata": {},
     "output_type": "execute_result"
    }
   ],
   "source": [
    "all_data.head()"
   ]
  }
 ],
 "metadata": {
  "kernelspec": {
   "display_name": "Python 3",
   "language": "python",
   "name": "python3"
  },
  "language_info": {
   "codemirror_mode": {
    "name": "ipython",
    "version": 3
   },
   "file_extension": ".py",
   "mimetype": "text/x-python",
   "name": "python",
   "nbconvert_exporter": "python",
   "pygments_lexer": "ipython3",
   "version": "3.7.6"
  },
  "toc": {
   "base_numbering": 1,
   "nav_menu": {},
   "number_sections": true,
   "sideBar": true,
   "skip_h1_title": false,
   "title_cell": "Table of Contents",
   "title_sidebar": "Contents",
   "toc_cell": false,
   "toc_position": {},
   "toc_section_display": true,
   "toc_window_display": false
  },
  "varInspector": {
   "cols": {
    "lenName": 16,
    "lenType": 16,
    "lenVar": 40
   },
   "kernels_config": {
    "python": {
     "delete_cmd_postfix": "",
     "delete_cmd_prefix": "del ",
     "library": "var_list.py",
     "varRefreshCmd": "print(var_dic_list())"
    },
    "r": {
     "delete_cmd_postfix": ") ",
     "delete_cmd_prefix": "rm(",
     "library": "var_list.r",
     "varRefreshCmd": "cat(var_dic_list()) "
    }
   },
   "types_to_exclude": [
    "module",
    "function",
    "builtin_function_or_method",
    "instance",
    "_Feature"
   ],
   "window_display": false
  }
 },
 "nbformat": 4,
 "nbformat_minor": 4
}
