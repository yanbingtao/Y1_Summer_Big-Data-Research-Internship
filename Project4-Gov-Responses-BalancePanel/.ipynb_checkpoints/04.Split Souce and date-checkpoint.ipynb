{
 "cells": [
  {
   "cell_type": "code",
   "execution_count": 31,
   "metadata": {},
   "outputs": [],
   "source": [
    "import pandas as pd \n",
    "import glob\n",
    "import os\n",
    "import csv\n"
   ]
  },
  {
   "cell_type": "code",
   "execution_count": 45,
   "metadata": {},
   "outputs": [],
   "source": [
    "filepath=r\"C:\\Users\\yanbi\\Desktop\\newsData\\Level3Data_combined\\all2_DateFormatChanged.csv\"\n",
    "all_data = pd.DataFrame()\n",
    "all_data= pd.read_csv(filepath, encoding='utf-8')  "
   ]
  },
  {
   "cell_type": "code",
   "execution_count": 33,
   "metadata": {},
   "outputs": [
    {
     "data": {
      "text/plain": [
       "<bound method NDFrame.head of                                       字段1_文本 County Cat   Time  Source  \\\n",
       "0                   甘肃省委原副秘书长唐兴和涉嫌严重违纪接受组织审查    枞阳县  倡廉   8:06     人民网   \n",
       "1                       枞阳供电推行“四约谈”工作法加强廉政建设    枞阳县  倡廉  10:28  新华网甘肃站   \n",
       "2                 安庆:枞阳县公安局举行建党90周反腐倡廉知识竞赛活动    枞阳县  倡廉  10:41    中安在线   \n",
       "3                  安徽省第三批廉政教育基地和第四批廉政文化建设示范点    枞阳县  倡廉  11:05     人民网   \n",
       "4                     中纪委近期曝光的典型案例告诉你哪些饭局不能去    枞阳县  倡廉   8:11     人民网   \n",
       "...                                      ...    ...  ..    ...     ...   \n",
       "1048569  棱光实业投资设立上海玻璃钢研究院东台有限公司建设产 630MW ...    东台市  投资  22:12  同花顺金融网   \n",
       "1048570             东台在无锡推介特色产业 签约项目投资30.73亿    东台市  投资  11:54      网易   \n",
       "1048571                           江苏东台试点生猪信托    东台市  投资  15:38      新浪   \n",
       "1048572                    东台市着力规范政府投资项目审批程序    东台市  投资   0:00     财政部   \n",
       "1048573                           东台:面向大海的远航    东台市  投资  10:41      网易   \n",
       "\n",
       "             Date  \n",
       "0        20171102  \n",
       "1        20160321  \n",
       "2        20110816  \n",
       "3        20130417  \n",
       "4        20160601  \n",
       "...           ...  \n",
       "1048569  20110107  \n",
       "1048570  20100416  \n",
       "1048571  20120626  \n",
       "1048572  20131031  \n",
       "1048573  20110526  \n",
       "\n",
       "[1048574 rows x 6 columns]>"
      ]
     },
     "execution_count": 33,
     "metadata": {},
     "output_type": "execute_result"
    }
   ],
   "source": [
    "all_data.head"
   ]
  },
  {
   "cell_type": "code",
   "execution_count": 50,
   "metadata": {},
   "outputs": [],
   "source": [
    "all_data[\"字段1_文本\"]=all_data[\"字段1_文本\"].replace({\",\": \"x\"}, inplace=True)\n"
   ]
  },
  {
   "cell_type": "code",
   "execution_count": 49,
   "metadata": {},
   "outputs": [],
   "source": []
  },
  {
   "cell_type": "code",
   "execution_count": 52,
   "metadata": {},
   "outputs": [],
   "source": [
    "all_data.to_csv(r'C:\\Users\\yanbi\\Desktop\\newsData\\all2_removeContent.csv',encoding='utf-8-sig')\n",
    "# need to delete 1st col"
   ]
  },
  {
   "cell_type": "code",
   "execution_count": null,
   "metadata": {},
   "outputs": [],
   "source": [
    "a=\"abc\"\n",
    "b=\"bcd\"\n",
    "c=\"cde\"\n",
    "\n",
    "d=a+b+c\n",
    "d"
   ]
  },
  {
   "cell_type": "code",
   "execution_count": null,
   "metadata": {},
   "outputs": [],
   "source": []
  }
 ],
 "metadata": {
  "kernelspec": {
   "display_name": "Python 3",
   "language": "python",
   "name": "python3"
  },
  "toc": {
   "base_numbering": 1,
   "nav_menu": {},
   "number_sections": true,
   "sideBar": true,
   "skip_h1_title": false,
   "title_cell": "Table of Contents",
   "title_sidebar": "Contents",
   "toc_cell": false,
   "toc_position": {},
   "toc_section_display": true,
   "toc_window_display": false
  },
  "varInspector": {
   "cols": {
    "lenName": 16,
    "lenType": 16,
    "lenVar": 40
   },
   "kernels_config": {
    "python": {
     "delete_cmd_postfix": "",
     "delete_cmd_prefix": "del ",
     "library": "var_list.py",
     "varRefreshCmd": "print(var_dic_list())"
    },
    "r": {
     "delete_cmd_postfix": ") ",
     "delete_cmd_prefix": "rm(",
     "library": "var_list.r",
     "varRefreshCmd": "cat(var_dic_list()) "
    }
   },
   "types_to_exclude": [
    "module",
    "function",
    "builtin_function_or_method",
    "instance",
    "_Feature"
   ],
   "window_display": false
  }
 },
 "nbformat": 4,
 "nbformat_minor": 4
}
