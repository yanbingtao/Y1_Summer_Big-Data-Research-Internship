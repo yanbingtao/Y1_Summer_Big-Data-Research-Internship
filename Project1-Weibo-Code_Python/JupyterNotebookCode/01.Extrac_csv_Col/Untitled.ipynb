{
 "cells": [
  {
   "cell_type": "code",
   "execution_count": 1,
   "metadata": {},
   "outputs": [],
   "source": [
    "import pandas as pd\n",
    "import io\n",
    "import csv \n",
    "import glob\n",
    "import os"
   ]
  },
  {
   "cell_type": "code",
   "execution_count": 40,
   "metadata": {},
   "outputs": [
    {
     "name": "stdout",
     "output_type": "stream",
     "text": [
      "         省份  城市       区县  回复时间\n",
      "0   香港特别行政区 NaN  香港特别行政区   NaN\n",
      "1   香港特别行政区 NaN  香港特别行政区   NaN\n",
      "2   香港特别行政区 NaN  香港特别行政区   NaN\n",
      "3   香港特别行政区 NaN  香港特别行政区   NaN\n",
      "4   香港特别行政区 NaN  香港特别行政区   NaN\n",
      "5   香港特别行政区 NaN  香港特别行政区   NaN\n",
      "6   香港特别行政区 NaN  香港特别行政区   NaN\n",
      "7   香港特别行政区 NaN  香港特别行政区   NaN\n",
      "8   香港特别行政区 NaN  香港特别行政区   NaN\n",
      "9   香港特别行政区 NaN  香港特别行政区   NaN\n",
      "10  香港特别行政区 NaN  香港特别行政区   NaN\n",
      "11  香港特别行政区 NaN  香港特别行政区   NaN\n",
      "12  香港特别行政区 NaN  香港特别行政区   NaN\n",
      "13  香港特别行政区 NaN  香港特别行政区   NaN\n",
      "14  香港特别行政区 NaN  香港特别行政区   NaN\n",
      "15  香港特别行政区 NaN  香港特别行政区   NaN\n",
      "16  香港特别行政区 NaN  香港特别行政区   NaN\n",
      "17  香港特别行政区 NaN  香港特别行政区   NaN\n",
      "18  香港特别行政区 NaN  香港特别行政区   NaN\n",
      "19  香港特别行政区 NaN  香港特别行政区   NaN\n",
      "20  香港特别行政区 NaN  香港特别行政区   NaN\n",
      "21  香港特别行政区 NaN  香港特别行政区   NaN\n",
      "22  香港特别行政区 NaN  香港特别行政区   NaN\n",
      "23  香港特别行政区 NaN  香港特别行政区   NaN\n",
      "24  香港特别行政区 NaN  香港特别行政区   NaN\n",
      "25  香港特别行政区 NaN  香港特别行政区   NaN\n",
      "26  香港特别行政区 NaN  香港特别行政区   NaN\n",
      "27  香港特别行政区 NaN  香港特别行政区   NaN\n",
      "28  香港特别行政区 NaN  香港特别行政区   NaN\n",
      "29  香港特别行政区 NaN  香港特别行政区   NaN\n",
      "30  香港特别行政区 NaN  香港特别行政区   NaN\n",
      "31  香港特别行政区 NaN  香港特别行政区   NaN\n",
      "32  香港特别行政区 NaN  香港特别行政区   NaN\n",
      "33  香港特别行政区 NaN  香港特别行政区   NaN\n",
      "34  香港特别行政区 NaN  香港特别行政区   NaN\n",
      "35  香港特别行政区 NaN  香港特别行政区   NaN\n",
      "36  香港特别行政区 NaN  香港特别行政区   NaN\n",
      "37  香港特别行政区 NaN  香港特别行政区   NaN\n",
      "38  香港特别行政区 NaN  香港特别行政区   NaN\n",
      "39  香港特别行政区 NaN  香港特别行政区   NaN\n"
     ]
    }
   ],
   "source": [
    "city='香港特别行政区'\n",
    "filepath=r\"C:\\Users\\yanbi\\Desktop\\Sum_Research2\\National data\\All_\"+city+\".csv\"\n",
    "filepath_output=r\"C:\\Users\\yanbi\\Desktop\\Sum_Research2\\National data ReplyTime\"\n",
    "\n",
    "# filenames = glob.glob(filepath + \"/*.csv\")\n",
    "# print(filenames)\n",
    "\n",
    "# for file in filenames:  \n",
    "df = pd.read_csv(filepath, usecols=['省份','城市','区县','回复时间'])\n",
    "print(df)\n",
    "df.to_csv(filepath_output+'\\ReplyTime_'+city+\".csv\")\n",
    "    "
   ]
  }
 ],
 "metadata": {
  "kernelspec": {
   "display_name": "Python 3",
   "language": "python",
   "name": "python3"
  },
  "language_info": {
   "codemirror_mode": {
    "name": "ipython",
    "version": 3
   },
   "file_extension": ".py",
   "mimetype": "text/x-python",
   "name": "python",
   "nbconvert_exporter": "python",
   "pygments_lexer": "ipython3",
   "version": "3.7.6"
  }
 },
 "nbformat": 4,
 "nbformat_minor": 4
}
