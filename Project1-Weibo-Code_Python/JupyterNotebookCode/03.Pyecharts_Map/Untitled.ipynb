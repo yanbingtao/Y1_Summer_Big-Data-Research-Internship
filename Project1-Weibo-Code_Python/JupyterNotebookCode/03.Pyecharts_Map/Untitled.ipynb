{
 "cells": [
  {
   "cell_type": "code",
   "execution_count": 1,
   "metadata": {},
   "outputs": [
    {
     "name": "stderr",
     "output_type": "stream",
     "text": [
      "C:\\Users\\yanbi\\anaconda3\\lib\\site-packages\\pyecharts\\charts\\chart.py:14: PendingDeprecationWarning: pyecharts 所有图表类型将在 v1.9.0 版本开始强制使用 ChartItem 进行数据项配置 :)\n",
      "  super().__init__(init_opts=init_opts)\n"
     ]
    }
   ],
   "source": [
    "# https://blog.csdn.net/dyg66/article/details/106097026\n",
    "# 世界地图\n",
    "from pyecharts.charts import Map  # 注意这里与老版本pyecharts调用的区别\n",
    "from pyecharts import options as opts\n",
    "import random\n",
    "country = ['China', 'Canada', 'France', 'Japan', 'Russia', 'USA']\n",
    "data_world = [(i, random.randint(100, 200)) for i in country]\n",
    "world = (\n",
    "    Map()\n",
    "    .add('', # 此处没取名，所以空着\n",
    "    \tdata_world, # 数据\n",
    "    \t'world') # 地图类型\n",
    "    .set_global_opts(\n",
    "        title_opts=opts.TitleOpts(title='World Map'),\n",
    "        visualmap_opts=opts.VisualMapOpts(\n",
    "            max_=200,\n",
    "            min_=100,\n",
    "            is_piecewise=True)  # 定义图例为分段型，默认为连续的图例\n",
    "    )\n",
    "    .set_series_opts(label_opts=opts.LabelOpts(is_show=False))\n",
    "    .render(path='世界地图.html')\n",
    ")"
   ]
  },
  {
   "cell_type": "code",
   "execution_count": null,
   "metadata": {},
   "outputs": [],
   "source": []
  },
  {
   "cell_type": "code",
   "execution_count": 4,
   "metadata": {},
   "outputs": [
    {
     "name": "stderr",
     "output_type": "stream",
     "text": [
      "C:\\Users\\yanbi\\anaconda3\\lib\\site-packages\\pyecharts\\charts\\chart.py:14: PendingDeprecationWarning: pyecharts 所有图表类型将在 v1.9.0 版本开始强制使用 ChartItem 进行数据项配置 :)\n",
      "  super().__init__(init_opts=init_opts)\n"
     ]
    }
   ],
   "source": [
    "# 中国省级地图\n",
    "\n",
    "province = ['广东', '湖北', '湖南', '四川', '重庆', '黑龙江', '浙江', '山西']\n",
    "data_province = [(i, random.randint(100, 200)) for i in province]\n",
    "# print(data)\n",
    "china_province = (\n",
    "    Map()\n",
    "    .add('', data_province, 'china')\n",
    "    .set_global_opts(\n",
    "        title_opts=opts.TitleOpts(title='Provinces of China'),\n",
    "        visualmap_opts=opts.VisualMapOpts(\n",
    "            min_=100,\n",
    "            max_=200,\n",
    "            is_piecewise=True)\n",
    "    )\n",
    "    .render(path='中国省级地图.html')\n",
    ")"
   ]
  },
  {
   "cell_type": "code",
   "execution_count": 5,
   "metadata": {},
   "outputs": [
    {
     "name": "stderr",
     "output_type": "stream",
     "text": [
      "C:\\Users\\yanbi\\anaconda3\\lib\\site-packages\\pyecharts\\charts\\chart.py:14: PendingDeprecationWarning: pyecharts 所有图表类型将在 v1.9.0 版本开始强制使用 ChartItem 进行数据项配置 :)\n",
      "  super().__init__(init_opts=init_opts)\n"
     ]
    }
   ],
   "source": [
    "# 中国市级地图\n",
    "city = ['北京', '天津', '上海', '广州', '阿拉善盟', '株洲']\n",
    "data_city = [(i, random.randint(100, 200)) for i in city]\n",
    "china_city = (\n",
    "    Map()\n",
    "    .add(\n",
    "        \"\",\n",
    "        data_city,\n",
    "        \"china-cities\",\n",
    "        label_opts=opts.LabelOpts(is_show=False),\n",
    "    )\n",
    "    .set_global_opts(\n",
    "        title_opts=opts.TitleOpts(title=\"中国市级地图\"),\n",
    "        visualmap_opts=opts.VisualMapOpts(\n",
    "            min_=100,\n",
    "            max_=200,\n",
    "            is_piecewise=True\n",
    "        ),\n",
    "    )\n",
    "    .render(\"中国地级市地图.html\")\n",
    ")"
   ]
  },
  {
   "cell_type": "code",
   "execution_count": 6,
   "metadata": {},
   "outputs": [
    {
     "name": "stderr",
     "output_type": "stream",
     "text": [
      "C:\\Users\\yanbi\\anaconda3\\lib\\site-packages\\pyecharts\\charts\\chart.py:14: PendingDeprecationWarning: pyecharts 所有图表类型将在 v1.9.0 版本开始强制使用 ChartItem 进行数据项配置 :)\n",
      "  super().__init__(init_opts=init_opts)\n"
     ]
    }
   ],
   "source": [
    "#某省市级地图\n",
    "prov_city = ['长沙市', '株洲市', '湘潭市', '衡阳市']\n",
    "data_prov_city = [(i, random.randint(100, 200)) for i in prov_city]\n",
    "province_city = (\n",
    "    Map()\n",
    "    .add(\"\",\n",
    "         data_prov_city,\n",
    "         \"湖南\")\n",
    "    .set_global_opts(\n",
    "        title_opts=opts.TitleOpts(title=\"某省地级市地图\"),\n",
    "        visualmap_opts=opts.VisualMapOpts(\n",
    "            min_=100,\n",
    "            max_=200,\n",
    "            is_piecewise=True\n",
    "        )\n",
    "    )\n",
    "    .render(path=\"某省地级市地图.html\")\n",
    ")\n",
    "————————————————\n",
    "版权声明：本文为CSDN博主「dyg66」的原创文章，遵循CC 4.0 BY-SA版权协议，转载请附上原文出处链接及本声明。\n",
    "原文链接：https://blog.csdn.net/dyg66/java/article/details/106097026"
   ]
  },
  {
   "cell_type": "code",
   "execution_count": 7,
   "metadata": {},
   "outputs": [
    {
     "name": "stderr",
     "output_type": "stream",
     "text": [
      "C:\\Users\\yanbi\\anaconda3\\lib\\site-packages\\pyecharts\\charts\\chart.py:14: PendingDeprecationWarning: pyecharts 所有图表类型将在 v1.9.0 版本开始强制使用 ChartItem 进行数据项配置 :)\n",
      "  super().__init__(init_opts=init_opts)\n"
     ]
    }
   ],
   "source": [
    "#某市县级地图\n",
    "counties = (\n",
    "    Map()\n",
    "    .add(\n",
    "        \"\",\n",
    "        [['攸县', 1]], \n",
    "        \"株洲\",\n",
    "        label_opts=opts.LabelOpts(is_show=False)\n",
    "    )\n",
    "    .set_global_opts(\n",
    "        title_opts=opts.TitleOpts(title=\"中国某市区县地图\"),\n",
    "        visualmap_opts=opts.VisualMapOpts(),\n",
    "    )\n",
    "    .render(\"某市的区县地图.html\")\n",
    ")"
   ]
  }
 ],
 "metadata": {
  "kernelspec": {
   "display_name": "Python 3",
   "language": "python",
   "name": "python3"
  },
  "language_info": {
   "codemirror_mode": {
    "name": "ipython",
    "version": 3
   },
   "file_extension": ".py",
   "mimetype": "text/x-python",
   "name": "python",
   "nbconvert_exporter": "python",
   "pygments_lexer": "ipython3",
   "version": "3.7.6"
  },
  "toc": {
   "base_numbering": 1,
   "nav_menu": {},
   "number_sections": true,
   "sideBar": true,
   "skip_h1_title": false,
   "title_cell": "Table of Contents",
   "title_sidebar": "Contents",
   "toc_cell": false,
   "toc_position": {},
   "toc_section_display": true,
   "toc_window_display": false
  }
 },
 "nbformat": 4,
 "nbformat_minor": 4
}
